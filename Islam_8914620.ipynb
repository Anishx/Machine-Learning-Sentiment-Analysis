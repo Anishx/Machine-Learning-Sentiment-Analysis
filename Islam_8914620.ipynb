{
 "cells": [
  {
   "cell_type": "code",
   "execution_count": 1,
   "metadata": {},
   "outputs": [],
   "source": [
    "import praw"
   ]
  },
  {
   "cell_type": "code",
   "execution_count": 2,
   "metadata": {},
   "outputs": [],
   "source": [
    "reddit = praw.Reddit(client_id='wDYqaMq-X2YCmUJTqPCaqw',\n",
    "                     client_secret='IqRTJP1nRwAqOpvu8oRhigLC7ZdRgg',\n",
    "                     user_agent='Islam_final_project')"
   ]
  },
  {
   "cell_type": "code",
   "execution_count": null,
   "metadata": {},
   "outputs": [],
   "source": [
    "\n",
    "related_subreddits = '+'.join(['economy', 'finance', 'business', 'investing'])\n",
    "\n",
    "def stream_headlines_to_file(subreddits, max_headlines, output_file):\n",
    "    subreddit = reddit.subreddit(subreddits)\n",
    "    collected_headlines = set()\n",
    "\n",
    "    with open(output_file, 'w', encoding='utf-8') as file:\n",
    "        for submission in subreddit.stream.submissions():\n",
    "            collected_headlines.add(submission.title)\n",
    "            file.write(submission.title + '\\n')\n",
    "\n",
    "            if len(collected_headlines) >= max_headlines:\n",
    "                break\n",
    "\n",
    "    print(f\"Total headlines collected: {len(collected_headlines)}\")\n",
    "    print(f\"Headlines written to: {output_file}\")\n",
    "\n",
    "output_file_path = 'headlines.txt'\n",
    "max_headlines = 10000\n",
    "\n",
    "stream_headlines_to_file(related_subreddits, max_headlines, output_file_path)"
   ]
  },
  {
   "cell_type": "code",
   "execution_count": 6,
   "metadata": {},
   "outputs": [],
   "source": [
    "def collect_comments(subreddits, min_comment_words, max_comments):\n",
    "    subreddit = reddit.subreddit(subreddits)\n",
    "    collected_comments = []\n",
    "\n",
    "    for submission in subreddit.stream.submissions():\n",
    "        submission.comments.replace_more(limit=None)\n",
    "        for comment in submission.comments.list():\n",
    "            if len(comment.body.split()) > min_comment_words:\n",
    "                collected_comments.append(comment.body)\n",
    "\n",
    "                if len(collected_comments) >= max_comments:\n",
    "                    return collected_comments\n",
    "\n",
    "    return collected_comments\n",
    "\n",
    "def export_comments_to_file(comments, output_file):\n",
    "    with open(output_file, 'w', encoding='utf-8') as file:\n",
    "        for comment in comments:\n",
    "            file.write(comment + '\\n')\n",
    "\n",
    "    print(f\"Total comments collected: {len(comments)}\")\n",
    "    print(f\"Comments written to: {output_file}\")\n",
    "\n",
    "output_comments_file_path = 'comments.txt'\n",
    "min_comment_words = 15\n",
    "max_comments = 10000\n"
   ]
  },
  {
   "cell_type": "code",
   "execution_count": 7,
   "metadata": {},
   "outputs": [
    {
     "ename": "KeyboardInterrupt",
     "evalue": "",
     "output_type": "error",
     "traceback": [
      "\u001b[0;31m---------------------------------------------------------------------------\u001b[0m",
      "\u001b[0;31mKeyboardInterrupt\u001b[0m                         Traceback (most recent call last)",
      "\u001b[1;32m/Users/amby/Desktop/Python-Aneesh/ML-project/Islam_8914620.ipynb Cell 5\u001b[0m line \u001b[0;36m1\n\u001b[0;32m----> <a href='vscode-notebook-cell:/Users/amby/Desktop/Python-Aneesh/ML-project/Islam_8914620.ipynb#W2sZmlsZQ%3D%3D?line=0'>1</a>\u001b[0m collected_comments \u001b[39m=\u001b[39m collect_comments(related_subreddits, min_comment_words, max_comments)\n",
      "\u001b[1;32m/Users/amby/Desktop/Python-Aneesh/ML-project/Islam_8914620.ipynb Cell 5\u001b[0m line \u001b[0;36m5\n\u001b[1;32m      <a href='vscode-notebook-cell:/Users/amby/Desktop/Python-Aneesh/ML-project/Islam_8914620.ipynb#W2sZmlsZQ%3D%3D?line=1'>2</a>\u001b[0m subreddit \u001b[39m=\u001b[39m reddit\u001b[39m.\u001b[39msubreddit(subreddits)\n\u001b[1;32m      <a href='vscode-notebook-cell:/Users/amby/Desktop/Python-Aneesh/ML-project/Islam_8914620.ipynb#W2sZmlsZQ%3D%3D?line=2'>3</a>\u001b[0m collected_comments \u001b[39m=\u001b[39m []\n\u001b[0;32m----> <a href='vscode-notebook-cell:/Users/amby/Desktop/Python-Aneesh/ML-project/Islam_8914620.ipynb#W2sZmlsZQ%3D%3D?line=4'>5</a>\u001b[0m \u001b[39mfor\u001b[39;49;00m submission \u001b[39min\u001b[39;49;00m subreddit\u001b[39m.\u001b[39;49mstream\u001b[39m.\u001b[39;49msubmissions():\n\u001b[1;32m      <a href='vscode-notebook-cell:/Users/amby/Desktop/Python-Aneesh/ML-project/Islam_8914620.ipynb#W2sZmlsZQ%3D%3D?line=5'>6</a>\u001b[0m     submission\u001b[39m.\u001b[39;49mcomments\u001b[39m.\u001b[39;49mreplace_more(limit\u001b[39m=\u001b[39;49m\u001b[39mNone\u001b[39;49;00m)\n\u001b[1;32m      <a href='vscode-notebook-cell:/Users/amby/Desktop/Python-Aneesh/ML-project/Islam_8914620.ipynb#W2sZmlsZQ%3D%3D?line=6'>7</a>\u001b[0m     \u001b[39mfor\u001b[39;49;00m comment \u001b[39min\u001b[39;49;00m submission\u001b[39m.\u001b[39;49mcomments\u001b[39m.\u001b[39;49mlist():\n",
      "File \u001b[0;32m/usr/local/lib/python3.11/site-packages/praw/models/util.py:161\u001b[0m, in \u001b[0;36mstream_generator\u001b[0;34m(function, attribute_name, exclude_before, pause_after, skip_existing, **function_kwargs)\u001b[0m\n\u001b[1;32m    159\u001b[0m     \u001b[39myield\u001b[39;00m \u001b[39mNone\u001b[39;00m\n\u001b[1;32m    160\u001b[0m \u001b[39melse\u001b[39;00m:\n\u001b[0;32m--> 161\u001b[0m     time\u001b[39m.\u001b[39msleep(exponential_counter\u001b[39m.\u001b[39mcounter())\n",
      "\u001b[0;31mKeyboardInterrupt\u001b[0m: "
     ]
    }
   ],
   "source": [
    "collected_comments = collect_comments(related_subreddits, min_comment_words, max_comments)"
   ]
  },
  {
   "cell_type": "code",
   "execution_count": 8,
   "metadata": {},
   "outputs": [
    {
     "ename": "NameError",
     "evalue": "name 'collected_comments' is not defined",
     "output_type": "error",
     "traceback": [
      "\u001b[0;31m---------------------------------------------------------------------------\u001b[0m",
      "\u001b[0;31mNameError\u001b[0m                                 Traceback (most recent call last)",
      "\u001b[1;32m/Users/amby/Desktop/Python-Aneesh/ML-project/Islam_8914620.ipynb Cell 6\u001b[0m line \u001b[0;36m1\n\u001b[0;32m----> <a href='vscode-notebook-cell:/Users/amby/Desktop/Python-Aneesh/ML-project/Islam_8914620.ipynb#W5sZmlsZQ%3D%3D?line=0'>1</a>\u001b[0m export_comments_to_file(collected_comments, output_comments_file_path)\n",
      "\u001b[0;31mNameError\u001b[0m: name 'collected_comments' is not defined"
     ]
    }
   ],
   "source": [
    "export_comments_to_file(collected_comments, output_comments_file_path)"
   ]
  },
  {
   "cell_type": "code",
   "execution_count": null,
   "metadata": {},
   "outputs": [],
   "source": []
  },
  {
   "cell_type": "markdown",
   "metadata": {},
   "source": [
    "----\n",
    "----"
   ]
  },
  {
   "cell_type": "code",
   "execution_count": null,
   "metadata": {},
   "outputs": [],
   "source": [
    "!pip install asyncpraw\n",
    "!pip install nest_asyncio"
   ]
  },
  {
   "cell_type": "markdown",
   "metadata": {},
   "source": [
    "import asyncio\n",
    "import asyncpraw\n",
    "import pandas as pd\n",
    "\n",
    "async def fetch_comments(subreddit_names, num_comments_per_topic, total_comments, batch_size, output_file, delay_threshold=100, delay_seconds=5):\n",
    "    \n",
    "    reddit = asyncpraw.Reddit(\n",
    "        client_id='wDYqaMq-X2YCmUJTqPCaqw',\n",
    "        client_secret='IqRTJP1nRwAqOpvu8oRhigLC7ZdRgg',\n",
    "        user_agent='Islam_final_project',\n",
    "    )\n",
    "\n",
    "    data = {'Title': [], 'Comment': [], 'Upvote Ratio': []}\n",
    "    comments_count = 0\n",
    "\n",
    "    for subreddit_name in subreddit_names:\n",
    "        subreddit = await reddit.subreddit(subreddit_name)\n",
    "\n",
    "        async for submission in subreddit.hot(limit=None):  # Fetch all hot submissions\n",
    "            print(f\"Fetching comments from {subreddit_name}: {submission.title}\")\n",
    "\n",
    "            await submission.load()\n",
    "\n",
    "            submission.comment_sort = 'top'\n",
    "            async for comment in submission.comments:\n",
    "                if isinstance(comment, asyncpraw.models.reddit.more.MoreComments):\n",
    "                    continue  # Skip MoreComments objects\n",
    "\n",
    "                data['Title'].append(submission.title)\n",
    "                data['Comment'].append(comment.body)\n",
    "                data['Upvote Ratio'].append(submission.upvote_ratio)\n",
    "                comments_count += 1\n",
    "\n",
    "                if comments_count >= total_comments:\n",
    "                    break  # Exit if the desired number of comments is reached\n",
    "\n",
    "                # Write to the file in batches\n",
    "                if comments_count % batch_size == 0:\n",
    "                    write_to_csv(data, output_file)\n",
    "                    data = {'Title': [], 'Comment': [], 'Upvote Ratio': []}\n",
    "\n",
    "                # Introduce a delay after every 100 comments\n",
    "                if comments_count % delay_threshold == 0:\n",
    "                    print(f\"Sleeping for {delay_seconds} seconds...\")\n",
    "                    await asyncio.sleep(delay_seconds)\n",
    "\n",
    "    # Write any remaining data to the file\n",
    "    if data['Title']:\n",
    "        write_to_csv(data, output_file)\n",
    "\n",
    "def write_to_csv(data, output_file):\n",
    "    df = pd.DataFrame(data)\n",
    "    df.to_csv(output_file, mode='a', index=False, header=not pd.DataFrame().empty)\n",
    "\n",
    "async def main():\n",
    "    related_subreddits = ['politics']\n",
    "    num_comments_per_topic = 10  # Change this to the number of comments per topic\n",
    "    total_comments = 10000  # Change this to the desired total number of comments\n",
    "    batch_size = 1000  # Change this to the size of each batch\n",
    "    output_file = '/content/reddit_comments.csv'  # Change this to the desired output file path\n",
    "    delay_threshold = 100  # Change this to the number of comments before introducing a delay\n",
    "    delay_seconds = 5  # Change this to the duration of the delay in seconds\n",
    "\n",
    "    await fetch_comments(related_subreddits, num_comments_per_topic, total_comments, batch_size, output_file, delay_threshold, delay_seconds)\n",
    "\n",
    "# Run the event loop\n",
    "if __name__ == \"__main__\":\n",
    "    loop = asyncio.get_event_loop()\n",
    "    loop.run_until_complete(main())\n"
   ]
  }
 ],
 "metadata": {
  "kernelspec": {
   "display_name": "jupyterNotebook",
   "language": "python",
   "name": "jupyternotebook"
  },
  "language_info": {
   "codemirror_mode": {
    "name": "ipython",
    "version": 3
   },
   "file_extension": ".py",
   "mimetype": "text/x-python",
   "name": "python",
   "nbconvert_exporter": "python",
   "pygments_lexer": "ipython3",
   "version": "3.11.6"
  }
 },
 "nbformat": 4,
 "nbformat_minor": 2
}
